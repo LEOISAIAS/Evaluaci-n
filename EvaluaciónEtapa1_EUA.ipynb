{
  "nbformat": 4,
  "nbformat_minor": 0,
  "metadata": {
    "colab": {
      "provenance": [],
      "authorship_tag": "ABX9TyNL1IF3X1s/aE9z9aRxAmqL",
      "include_colab_link": true
    },
    "kernelspec": {
      "name": "python3",
      "display_name": "Python 3"
    },
    "language_info": {
      "name": "python"
    }
  },
  "cells": [
    {
      "cell_type": "markdown",
      "metadata": {
        "id": "view-in-github",
        "colab_type": "text"
      },
      "source": [
        "<a href=\"https://colab.research.google.com/github/LEOISAIAS/Evaluaci-n/blob/main/Evaluaci%C3%B3nEtapa1_EUA.ipynb\" target=\"_parent\"><img src=\"https://colab.research.google.com/assets/colab-badge.svg\" alt=\"Open In Colab\"/></a>"
      ]
    },
    {
      "cell_type": "markdown",
      "source": [
        "# **EVALUACIÓN**\n",
        "\n",
        "ETAPA1/DATASET *EUA*\n",
        "## Leonardo Isaías Guevara Pioquinto\n",
        "\n",
        "###***A01275327***\n"
      ],
      "metadata": {
        "id": "Aq7txn-NzMSr"
      }
    },
    {
      "cell_type": "code",
      "execution_count": 2,
      "metadata": {
        "id": "282Z7WU4zHM5"
      },
      "outputs": [],
      "source": [
        "#Importamos las librerias pandas, numpy y matplotlib respectivamente\n",
        "import pandas as pd\n",
        "import numpy as np\n",
        "import matplotlib.pyplot as plt"
      ]
    },
    {
      "cell_type": "code",
      "source": [
        "EUA = pd.read_csv(\"California_EUA.csv\", encoding= 'unicode_escape')\n",
        "EUA"
      ],
      "metadata": {
        "id": "kjM_Q4utzU9C",
        "colab": {
          "base_uri": "https://localhost:8080/",
          "height": 1000
        },
        "outputId": "aa3699b4-5b44-46fe-983d-8322021dbb67"
      },
      "execution_count": 3,
      "outputs": [
        {
          "output_type": "execute_result",
          "data": {
            "text/plain": [
              "             ï»¿id                                      listing_url  \\\n",
              "0     9.580000e+02                 https://www.airbnb.com/rooms/958   \n",
              "1     5.858000e+03                https://www.airbnb.com/rooms/5858   \n",
              "2     8.142000e+03                https://www.airbnb.com/rooms/8142   \n",
              "3     8.339000e+03                https://www.airbnb.com/rooms/8339   \n",
              "4     8.739000e+03                https://www.airbnb.com/rooms/8739   \n",
              "...            ...                                              ...   \n",
              "6931  8.180000e+17  https://www.airbnb.com/rooms/818195233784141985   \n",
              "6932  8.180000e+17  https://www.airbnb.com/rooms/818231243893035313   \n",
              "6933  8.180000e+17  https://www.airbnb.com/rooms/818396267693629070   \n",
              "6934  8.180000e+17  https://www.airbnb.com/rooms/818474518435984613   \n",
              "6935  8.190000e+17  https://www.airbnb.com/rooms/818887060432463897   \n",
              "\n",
              "         scrape_id last_scraped       source  \\\n",
              "0     2.020000e+13   06/03/2023  city scrape   \n",
              "1     2.020000e+13   06/03/2023  city scrape   \n",
              "2     2.020000e+13   06/03/2023  city scrape   \n",
              "3     2.020000e+13   06/03/2023  city scrape   \n",
              "4     2.020000e+13   06/03/2023  city scrape   \n",
              "...            ...          ...          ...   \n",
              "6931  2.020000e+13   06/03/2023  city scrape   \n",
              "6932  2.020000e+13   06/03/2023  city scrape   \n",
              "6933  2.020000e+13   06/03/2023  city scrape   \n",
              "6934  2.020000e+13   06/03/2023  city scrape   \n",
              "6935  2.020000e+13   06/03/2023  city scrape   \n",
              "\n",
              "                                                   name  \\\n",
              "0                 Bright, Modern Garden Unit - 1BR/1BTH   \n",
              "1                                    Creative Sanctuary   \n",
              "2     Friendly Room Apt. Style -UCSF/USF - San Franc...   \n",
              "3                       Historic Alamo Square Victorian   \n",
              "4                   Mission Sunshine, with Private Bath   \n",
              "...                                                 ...   \n",
              "6931                    Powell Place Studio on Nob Hill   \n",
              "6932  Ã¢â¬Â¢ Cozy & Comfortable Castro Artist's Stu...   \n",
              "6933               Heart of SF ! Close by to Everything   \n",
              "6934                              Private room #2 in SF   \n",
              "6935                             Sunny Garden Apartment   \n",
              "\n",
              "                                            description  \\\n",
              "0     Our bright garden unit overlooks a lovely back...   \n",
              "1     We live in a large Victorian house on a quiet ...   \n",
              "2     Nice and good public transportation.  7 minute...   \n",
              "3     Pls email before booking. <br />Interior featu...   \n",
              "4     Welcome to \"The Mission,\" the sunniest neighbo...   \n",
              "...                                                 ...   \n",
              "6931  Situated in the prestigious Nob Hill section o...   \n",
              "6932  You'll be in the perfect location to explore a...   \n",
              "6933  - In-unit washer/dryer<br />-Walk-in Closet <b...   \n",
              "6934  Enjoy a memorable visit when you stay at our A...   \n",
              "6935  This sunny garden apartment is located in Laur...   \n",
              "\n",
              "                                  neighborhood_overview  \\\n",
              "0     Quiet cul de sac in friendly neighborhood<br /...   \n",
              "1     I love how our neighborhood feels quiet but is...   \n",
              "2     N Juda Muni, Bus and UCSF Shuttle.<br /><br />...   \n",
              "3                                                   NaN   \n",
              "4     Located between Valencia Street and Dolores Pa...   \n",
              "...                                                 ...   \n",
              "6931  Powell Place is surrounded by everything that ...   \n",
              "6932  Lively and safe neighborhood, with a local lib...   \n",
              "6933                                                NaN   \n",
              "6934                                                NaN   \n",
              "6935  Laurel Heights is a quiet, refined neighborhoo...   \n",
              "\n",
              "                                            picture_url    host_id  ...  \\\n",
              "0     https://a0.muscache.com/pictures/b7c2a199-4c17...       1169  ...   \n",
              "1     https://a0.muscache.com/pictures/17714/3a7aea1...       8904  ...   \n",
              "2     https://a0.muscache.com/pictures/12d8bff0-1698...      21994  ...   \n",
              "3     https://a0.muscache.com/pictures/miso/Hosting-...      24215  ...   \n",
              "4     https://a0.muscache.com/pictures/80811/7a57d0e...       7149  ...   \n",
              "...                                                 ...        ...  ...   \n",
              "6931  https://a0.muscache.com/pictures/miso/Hosting-...  495900269  ...   \n",
              "6932  https://a0.muscache.com/pictures/miso/Hosting-...  499392537  ...   \n",
              "6933  https://a0.muscache.com/pictures/miso/Hosting-...  499294716  ...   \n",
              "6934  https://a0.muscache.com/pictures/miso/Hosting-...  485596413  ...   \n",
              "6935  https://a0.muscache.com/pictures/miso/Hosting-...    4836128  ...   \n",
              "\n",
              "     review_scores_communication review_scores_location review_scores_value  \\\n",
              "0                           4.88                   4.98                4.76   \n",
              "1                           4.85                   4.77                4.68   \n",
              "2                           4.78                   4.67                4.67   \n",
              "3                           5.00                   4.94                4.75   \n",
              "4                           4.96                   4.93                4.74   \n",
              "...                          ...                    ...                 ...   \n",
              "6931                         NaN                    NaN                 NaN   \n",
              "6932                        5.00                   5.00                5.00   \n",
              "6933                         NaN                    NaN                 NaN   \n",
              "6934                         NaN                    NaN                 NaN   \n",
              "6935                         NaN                    NaN                 NaN   \n",
              "\n",
              "                        license instant_bookable  \\\n",
              "0     City Registration Pending                f   \n",
              "1                           NaN                f   \n",
              "2                           NaN                f   \n",
              "3                   STR-0000264                f   \n",
              "4                   STR-0000028                f   \n",
              "...                         ...              ...   \n",
              "6931                     147904                t   \n",
              "6932             2023-001477STR                f   \n",
              "6933                        NaN                f   \n",
              "6934             2022-012562STR                f   \n",
              "6935                        NaN                t   \n",
              "\n",
              "     calculated_host_listings_count  \\\n",
              "0                                 1   \n",
              "1                                 1   \n",
              "2                                13   \n",
              "3                                 2   \n",
              "4                                 2   \n",
              "...                             ...   \n",
              "6931                              5   \n",
              "6932                              1   \n",
              "6933                              1   \n",
              "6934                              3   \n",
              "6935                              2   \n",
              "\n",
              "     calculated_host_listings_count_entire_homes  \\\n",
              "0                                              1   \n",
              "1                                              1   \n",
              "2                                              0   \n",
              "3                                              2   \n",
              "4                                              0   \n",
              "...                                          ...   \n",
              "6931                                           5   \n",
              "6932                                           1   \n",
              "6933                                           0   \n",
              "6934                                           0   \n",
              "6935                                           1   \n",
              "\n",
              "     calculated_host_listings_count_private_rooms  \\\n",
              "0                                               0   \n",
              "1                                               0   \n",
              "2                                              13   \n",
              "3                                               0   \n",
              "4                                               2   \n",
              "...                                           ...   \n",
              "6931                                            0   \n",
              "6932                                            0   \n",
              "6933                                            1   \n",
              "6934                                            3   \n",
              "6935                                            1   \n",
              "\n",
              "     calculated_host_listings_count_shared_rooms reviews_per_month  \n",
              "0                                              0              2.31  \n",
              "1                                              0              0.66  \n",
              "2                                              0              0.09  \n",
              "3                                              0              0.17  \n",
              "4                                              0              4.65  \n",
              "...                                          ...               ...  \n",
              "6931                                           0               NaN  \n",
              "6932                                           0              1.00  \n",
              "6933                                           0               NaN  \n",
              "6934                                           0               NaN  \n",
              "6935                                           0               NaN  \n",
              "\n",
              "[6936 rows x 75 columns]"
            ],
            "text/html": [
              "\n",
              "  <div id=\"df-550f14c9-273d-4067-8e1f-2135904299c6\">\n",
              "    <div class=\"colab-df-container\">\n",
              "      <div>\n",
              "<style scoped>\n",
              "    .dataframe tbody tr th:only-of-type {\n",
              "        vertical-align: middle;\n",
              "    }\n",
              "\n",
              "    .dataframe tbody tr th {\n",
              "        vertical-align: top;\n",
              "    }\n",
              "\n",
              "    .dataframe thead th {\n",
              "        text-align: right;\n",
              "    }\n",
              "</style>\n",
              "<table border=\"1\" class=\"dataframe\">\n",
              "  <thead>\n",
              "    <tr style=\"text-align: right;\">\n",
              "      <th></th>\n",
              "      <th>ï»¿id</th>\n",
              "      <th>listing_url</th>\n",
              "      <th>scrape_id</th>\n",
              "      <th>last_scraped</th>\n",
              "      <th>source</th>\n",
              "      <th>name</th>\n",
              "      <th>description</th>\n",
              "      <th>neighborhood_overview</th>\n",
              "      <th>picture_url</th>\n",
              "      <th>host_id</th>\n",
              "      <th>...</th>\n",
              "      <th>review_scores_communication</th>\n",
              "      <th>review_scores_location</th>\n",
              "      <th>review_scores_value</th>\n",
              "      <th>license</th>\n",
              "      <th>instant_bookable</th>\n",
              "      <th>calculated_host_listings_count</th>\n",
              "      <th>calculated_host_listings_count_entire_homes</th>\n",
              "      <th>calculated_host_listings_count_private_rooms</th>\n",
              "      <th>calculated_host_listings_count_shared_rooms</th>\n",
              "      <th>reviews_per_month</th>\n",
              "    </tr>\n",
              "  </thead>\n",
              "  <tbody>\n",
              "    <tr>\n",
              "      <th>0</th>\n",
              "      <td>9.580000e+02</td>\n",
              "      <td>https://www.airbnb.com/rooms/958</td>\n",
              "      <td>2.020000e+13</td>\n",
              "      <td>06/03/2023</td>\n",
              "      <td>city scrape</td>\n",
              "      <td>Bright, Modern Garden Unit - 1BR/1BTH</td>\n",
              "      <td>Our bright garden unit overlooks a lovely back...</td>\n",
              "      <td>Quiet cul de sac in friendly neighborhood&lt;br /...</td>\n",
              "      <td>https://a0.muscache.com/pictures/b7c2a199-4c17...</td>\n",
              "      <td>1169</td>\n",
              "      <td>...</td>\n",
              "      <td>4.88</td>\n",
              "      <td>4.98</td>\n",
              "      <td>4.76</td>\n",
              "      <td>City Registration Pending</td>\n",
              "      <td>f</td>\n",
              "      <td>1</td>\n",
              "      <td>1</td>\n",
              "      <td>0</td>\n",
              "      <td>0</td>\n",
              "      <td>2.31</td>\n",
              "    </tr>\n",
              "    <tr>\n",
              "      <th>1</th>\n",
              "      <td>5.858000e+03</td>\n",
              "      <td>https://www.airbnb.com/rooms/5858</td>\n",
              "      <td>2.020000e+13</td>\n",
              "      <td>06/03/2023</td>\n",
              "      <td>city scrape</td>\n",
              "      <td>Creative Sanctuary</td>\n",
              "      <td>We live in a large Victorian house on a quiet ...</td>\n",
              "      <td>I love how our neighborhood feels quiet but is...</td>\n",
              "      <td>https://a0.muscache.com/pictures/17714/3a7aea1...</td>\n",
              "      <td>8904</td>\n",
              "      <td>...</td>\n",
              "      <td>4.85</td>\n",
              "      <td>4.77</td>\n",
              "      <td>4.68</td>\n",
              "      <td>NaN</td>\n",
              "      <td>f</td>\n",
              "      <td>1</td>\n",
              "      <td>1</td>\n",
              "      <td>0</td>\n",
              "      <td>0</td>\n",
              "      <td>0.66</td>\n",
              "    </tr>\n",
              "    <tr>\n",
              "      <th>2</th>\n",
              "      <td>8.142000e+03</td>\n",
              "      <td>https://www.airbnb.com/rooms/8142</td>\n",
              "      <td>2.020000e+13</td>\n",
              "      <td>06/03/2023</td>\n",
              "      <td>city scrape</td>\n",
              "      <td>Friendly Room Apt. Style -UCSF/USF - San Franc...</td>\n",
              "      <td>Nice and good public transportation.  7 minute...</td>\n",
              "      <td>N Juda Muni, Bus and UCSF Shuttle.&lt;br /&gt;&lt;br /&gt;...</td>\n",
              "      <td>https://a0.muscache.com/pictures/12d8bff0-1698...</td>\n",
              "      <td>21994</td>\n",
              "      <td>...</td>\n",
              "      <td>4.78</td>\n",
              "      <td>4.67</td>\n",
              "      <td>4.67</td>\n",
              "      <td>NaN</td>\n",
              "      <td>f</td>\n",
              "      <td>13</td>\n",
              "      <td>0</td>\n",
              "      <td>13</td>\n",
              "      <td>0</td>\n",
              "      <td>0.09</td>\n",
              "    </tr>\n",
              "    <tr>\n",
              "      <th>3</th>\n",
              "      <td>8.339000e+03</td>\n",
              "      <td>https://www.airbnb.com/rooms/8339</td>\n",
              "      <td>2.020000e+13</td>\n",
              "      <td>06/03/2023</td>\n",
              "      <td>city scrape</td>\n",
              "      <td>Historic Alamo Square Victorian</td>\n",
              "      <td>Pls email before booking. &lt;br /&gt;Interior featu...</td>\n",
              "      <td>NaN</td>\n",
              "      <td>https://a0.muscache.com/pictures/miso/Hosting-...</td>\n",
              "      <td>24215</td>\n",
              "      <td>...</td>\n",
              "      <td>5.00</td>\n",
              "      <td>4.94</td>\n",
              "      <td>4.75</td>\n",
              "      <td>STR-0000264</td>\n",
              "      <td>f</td>\n",
              "      <td>2</td>\n",
              "      <td>2</td>\n",
              "      <td>0</td>\n",
              "      <td>0</td>\n",
              "      <td>0.17</td>\n",
              "    </tr>\n",
              "    <tr>\n",
              "      <th>4</th>\n",
              "      <td>8.739000e+03</td>\n",
              "      <td>https://www.airbnb.com/rooms/8739</td>\n",
              "      <td>2.020000e+13</td>\n",
              "      <td>06/03/2023</td>\n",
              "      <td>city scrape</td>\n",
              "      <td>Mission Sunshine, with Private Bath</td>\n",
              "      <td>Welcome to \"The Mission,\" the sunniest neighbo...</td>\n",
              "      <td>Located between Valencia Street and Dolores Pa...</td>\n",
              "      <td>https://a0.muscache.com/pictures/80811/7a57d0e...</td>\n",
              "      <td>7149</td>\n",
              "      <td>...</td>\n",
              "      <td>4.96</td>\n",
              "      <td>4.93</td>\n",
              "      <td>4.74</td>\n",
              "      <td>STR-0000028</td>\n",
              "      <td>f</td>\n",
              "      <td>2</td>\n",
              "      <td>0</td>\n",
              "      <td>2</td>\n",
              "      <td>0</td>\n",
              "      <td>4.65</td>\n",
              "    </tr>\n",
              "    <tr>\n",
              "      <th>...</th>\n",
              "      <td>...</td>\n",
              "      <td>...</td>\n",
              "      <td>...</td>\n",
              "      <td>...</td>\n",
              "      <td>...</td>\n",
              "      <td>...</td>\n",
              "      <td>...</td>\n",
              "      <td>...</td>\n",
              "      <td>...</td>\n",
              "      <td>...</td>\n",
              "      <td>...</td>\n",
              "      <td>...</td>\n",
              "      <td>...</td>\n",
              "      <td>...</td>\n",
              "      <td>...</td>\n",
              "      <td>...</td>\n",
              "      <td>...</td>\n",
              "      <td>...</td>\n",
              "      <td>...</td>\n",
              "      <td>...</td>\n",
              "      <td>...</td>\n",
              "    </tr>\n",
              "    <tr>\n",
              "      <th>6931</th>\n",
              "      <td>8.180000e+17</td>\n",
              "      <td>https://www.airbnb.com/rooms/818195233784141985</td>\n",
              "      <td>2.020000e+13</td>\n",
              "      <td>06/03/2023</td>\n",
              "      <td>city scrape</td>\n",
              "      <td>Powell Place Studio on Nob Hill</td>\n",
              "      <td>Situated in the prestigious Nob Hill section o...</td>\n",
              "      <td>Powell Place is surrounded by everything that ...</td>\n",
              "      <td>https://a0.muscache.com/pictures/miso/Hosting-...</td>\n",
              "      <td>495900269</td>\n",
              "      <td>...</td>\n",
              "      <td>NaN</td>\n",
              "      <td>NaN</td>\n",
              "      <td>NaN</td>\n",
              "      <td>147904</td>\n",
              "      <td>t</td>\n",
              "      <td>5</td>\n",
              "      <td>5</td>\n",
              "      <td>0</td>\n",
              "      <td>0</td>\n",
              "      <td>NaN</td>\n",
              "    </tr>\n",
              "    <tr>\n",
              "      <th>6932</th>\n",
              "      <td>8.180000e+17</td>\n",
              "      <td>https://www.airbnb.com/rooms/818231243893035313</td>\n",
              "      <td>2.020000e+13</td>\n",
              "      <td>06/03/2023</td>\n",
              "      <td>city scrape</td>\n",
              "      <td>Ã¢â¬Â¢ Cozy &amp; Comfortable Castro Artist's Stu...</td>\n",
              "      <td>You'll be in the perfect location to explore a...</td>\n",
              "      <td>Lively and safe neighborhood, with a local lib...</td>\n",
              "      <td>https://a0.muscache.com/pictures/miso/Hosting-...</td>\n",
              "      <td>499392537</td>\n",
              "      <td>...</td>\n",
              "      <td>5.00</td>\n",
              "      <td>5.00</td>\n",
              "      <td>5.00</td>\n",
              "      <td>2023-001477STR</td>\n",
              "      <td>f</td>\n",
              "      <td>1</td>\n",
              "      <td>1</td>\n",
              "      <td>0</td>\n",
              "      <td>0</td>\n",
              "      <td>1.00</td>\n",
              "    </tr>\n",
              "    <tr>\n",
              "      <th>6933</th>\n",
              "      <td>8.180000e+17</td>\n",
              "      <td>https://www.airbnb.com/rooms/818396267693629070</td>\n",
              "      <td>2.020000e+13</td>\n",
              "      <td>06/03/2023</td>\n",
              "      <td>city scrape</td>\n",
              "      <td>Heart of SF ! Close by to Everything</td>\n",
              "      <td>- In-unit washer/dryer&lt;br /&gt;-Walk-in Closet &lt;b...</td>\n",
              "      <td>NaN</td>\n",
              "      <td>https://a0.muscache.com/pictures/miso/Hosting-...</td>\n",
              "      <td>499294716</td>\n",
              "      <td>...</td>\n",
              "      <td>NaN</td>\n",
              "      <td>NaN</td>\n",
              "      <td>NaN</td>\n",
              "      <td>NaN</td>\n",
              "      <td>f</td>\n",
              "      <td>1</td>\n",
              "      <td>0</td>\n",
              "      <td>1</td>\n",
              "      <td>0</td>\n",
              "      <td>NaN</td>\n",
              "    </tr>\n",
              "    <tr>\n",
              "      <th>6934</th>\n",
              "      <td>8.180000e+17</td>\n",
              "      <td>https://www.airbnb.com/rooms/818474518435984613</td>\n",
              "      <td>2.020000e+13</td>\n",
              "      <td>06/03/2023</td>\n",
              "      <td>city scrape</td>\n",
              "      <td>Private room #2 in SF</td>\n",
              "      <td>Enjoy a memorable visit when you stay at our A...</td>\n",
              "      <td>NaN</td>\n",
              "      <td>https://a0.muscache.com/pictures/miso/Hosting-...</td>\n",
              "      <td>485596413</td>\n",
              "      <td>...</td>\n",
              "      <td>NaN</td>\n",
              "      <td>NaN</td>\n",
              "      <td>NaN</td>\n",
              "      <td>2022-012562STR</td>\n",
              "      <td>f</td>\n",
              "      <td>3</td>\n",
              "      <td>0</td>\n",
              "      <td>3</td>\n",
              "      <td>0</td>\n",
              "      <td>NaN</td>\n",
              "    </tr>\n",
              "    <tr>\n",
              "      <th>6935</th>\n",
              "      <td>8.190000e+17</td>\n",
              "      <td>https://www.airbnb.com/rooms/818887060432463897</td>\n",
              "      <td>2.020000e+13</td>\n",
              "      <td>06/03/2023</td>\n",
              "      <td>city scrape</td>\n",
              "      <td>Sunny Garden Apartment</td>\n",
              "      <td>This sunny garden apartment is located in Laur...</td>\n",
              "      <td>Laurel Heights is a quiet, refined neighborhoo...</td>\n",
              "      <td>https://a0.muscache.com/pictures/miso/Hosting-...</td>\n",
              "      <td>4836128</td>\n",
              "      <td>...</td>\n",
              "      <td>NaN</td>\n",
              "      <td>NaN</td>\n",
              "      <td>NaN</td>\n",
              "      <td>NaN</td>\n",
              "      <td>t</td>\n",
              "      <td>2</td>\n",
              "      <td>1</td>\n",
              "      <td>1</td>\n",
              "      <td>0</td>\n",
              "      <td>NaN</td>\n",
              "    </tr>\n",
              "  </tbody>\n",
              "</table>\n",
              "<p>6936 rows × 75 columns</p>\n",
              "</div>\n",
              "      <button class=\"colab-df-convert\" onclick=\"convertToInteractive('df-550f14c9-273d-4067-8e1f-2135904299c6')\"\n",
              "              title=\"Convert this dataframe to an interactive table.\"\n",
              "              style=\"display:none;\">\n",
              "        \n",
              "  <svg xmlns=\"http://www.w3.org/2000/svg\" height=\"24px\"viewBox=\"0 0 24 24\"\n",
              "       width=\"24px\">\n",
              "    <path d=\"M0 0h24v24H0V0z\" fill=\"none\"/>\n",
              "    <path d=\"M18.56 5.44l.94 2.06.94-2.06 2.06-.94-2.06-.94-.94-2.06-.94 2.06-2.06.94zm-11 1L8.5 8.5l.94-2.06 2.06-.94-2.06-.94L8.5 2.5l-.94 2.06-2.06.94zm10 10l.94 2.06.94-2.06 2.06-.94-2.06-.94-.94-2.06-.94 2.06-2.06.94z\"/><path d=\"M17.41 7.96l-1.37-1.37c-.4-.4-.92-.59-1.43-.59-.52 0-1.04.2-1.43.59L10.3 9.45l-7.72 7.72c-.78.78-.78 2.05 0 2.83L4 21.41c.39.39.9.59 1.41.59.51 0 1.02-.2 1.41-.59l7.78-7.78 2.81-2.81c.8-.78.8-2.07 0-2.86zM5.41 20L4 18.59l7.72-7.72 1.47 1.35L5.41 20z\"/>\n",
              "  </svg>\n",
              "      </button>\n",
              "      \n",
              "  <style>\n",
              "    .colab-df-container {\n",
              "      display:flex;\n",
              "      flex-wrap:wrap;\n",
              "      gap: 12px;\n",
              "    }\n",
              "\n",
              "    .colab-df-convert {\n",
              "      background-color: #E8F0FE;\n",
              "      border: none;\n",
              "      border-radius: 50%;\n",
              "      cursor: pointer;\n",
              "      display: none;\n",
              "      fill: #1967D2;\n",
              "      height: 32px;\n",
              "      padding: 0 0 0 0;\n",
              "      width: 32px;\n",
              "    }\n",
              "\n",
              "    .colab-df-convert:hover {\n",
              "      background-color: #E2EBFA;\n",
              "      box-shadow: 0px 1px 2px rgba(60, 64, 67, 0.3), 0px 1px 3px 1px rgba(60, 64, 67, 0.15);\n",
              "      fill: #174EA6;\n",
              "    }\n",
              "\n",
              "    [theme=dark] .colab-df-convert {\n",
              "      background-color: #3B4455;\n",
              "      fill: #D2E3FC;\n",
              "    }\n",
              "\n",
              "    [theme=dark] .colab-df-convert:hover {\n",
              "      background-color: #434B5C;\n",
              "      box-shadow: 0px 1px 3px 1px rgba(0, 0, 0, 0.15);\n",
              "      filter: drop-shadow(0px 1px 2px rgba(0, 0, 0, 0.3));\n",
              "      fill: #FFFFFF;\n",
              "    }\n",
              "  </style>\n",
              "\n",
              "      <script>\n",
              "        const buttonEl =\n",
              "          document.querySelector('#df-550f14c9-273d-4067-8e1f-2135904299c6 button.colab-df-convert');\n",
              "        buttonEl.style.display =\n",
              "          google.colab.kernel.accessAllowed ? 'block' : 'none';\n",
              "\n",
              "        async function convertToInteractive(key) {\n",
              "          const element = document.querySelector('#df-550f14c9-273d-4067-8e1f-2135904299c6');\n",
              "          const dataTable =\n",
              "            await google.colab.kernel.invokeFunction('convertToInteractive',\n",
              "                                                     [key], {});\n",
              "          if (!dataTable) return;\n",
              "\n",
              "          const docLinkHtml = 'Like what you see? Visit the ' +\n",
              "            '<a target=\"_blank\" href=https://colab.research.google.com/notebooks/data_table.ipynb>data table notebook</a>'\n",
              "            + ' to learn more about interactive tables.';\n",
              "          element.innerHTML = '';\n",
              "          dataTable['output_type'] = 'display_data';\n",
              "          await google.colab.output.renderOutput(dataTable, element);\n",
              "          const docLink = document.createElement('div');\n",
              "          docLink.innerHTML = docLinkHtml;\n",
              "          element.appendChild(docLink);\n",
              "        }\n",
              "      </script>\n",
              "    </div>\n",
              "  </div>\n",
              "  "
            ]
          },
          "metadata": {},
          "execution_count": 3
        }
      ]
    },
    {
      "cell_type": "code",
      "source": [
        "#ESP = pd.read_csv(\"Girona_España.csv\", encoding= 'unicode_escape')\n",
        "#ESP"
      ],
      "metadata": {
        "id": "wkFqjWlk0b9w"
      },
      "execution_count": 5,
      "outputs": []
    },
    {
      "cell_type": "code",
      "source": [
        "#MX = pd.read_csv(\"DF_Mexico.csv\", encoding= 'unicode_escape')\n",
        "#MX"
      ],
      "metadata": {
        "id": "3qrNBFxG0td_"
      },
      "execution_count": 6,
      "outputs": []
    },
    {
      "cell_type": "markdown",
      "source": [
        "#***EUA***"
      ],
      "metadata": {
        "id": "Z_lT7hMk1TKr"
      }
    },
    {
      "cell_type": "code",
      "source": [
        "#Verificamos información del DataFrame\n",
        "EUA.info()"
      ],
      "metadata": {
        "id": "F55-jyAe1WXe"
      },
      "execution_count": null,
      "outputs": []
    },
    {
      "cell_type": "code",
      "source": [
        "#Corroboramos valores nulos\n",
        "valores_nulos=EUA.isnull().sum()\n",
        "valores_nulos"
      ],
      "metadata": {
        "colab": {
          "base_uri": "https://localhost:8080/"
        },
        "id": "NRO3Nz_m1eW9",
        "outputId": "7cb2cd7f-c00a-4284-da5d-87d78cebce2d"
      },
      "execution_count": 8,
      "outputs": [
        {
          "output_type": "execute_result",
          "data": {
            "text/plain": [
              "ï»¿id                                              0\n",
              "listing_url                                        0\n",
              "scrape_id                                          0\n",
              "last_scraped                                       0\n",
              "source                                             0\n",
              "                                                ... \n",
              "calculated_host_listings_count                     0\n",
              "calculated_host_listings_count_entire_homes        0\n",
              "calculated_host_listings_count_private_rooms       0\n",
              "calculated_host_listings_count_shared_rooms        0\n",
              "reviews_per_month                               1325\n",
              "Length: 75, dtype: int64"
            ]
          },
          "metadata": {},
          "execution_count": 8
        }
      ]
    },
    {
      "cell_type": "markdown",
      "source": [
        "# **PROCEDIMIENTO PARA ELIMINAR VALORES NULOS EN DATAFRAME**"
      ],
      "metadata": {
        "id": "7Su3-MT11u8Z"
      }
    },
    {
      "cell_type": "code",
      "source": [
        "#Reemplazamos valores nulos del dataframe con \"bfill\"\n",
        "data1 =EUA.fillna(method=\"bfill\") \n",
        "data1\n",
        "data1['reviews_per_month'] = data1['reviews_per_month'].fillna('--')\n"
      ],
      "metadata": {
        "id": "1T7JTWxd1mIa"
      },
      "execution_count": 9,
      "outputs": []
    },
    {
      "cell_type": "markdown",
      "source": [
        "Se utilizó el método de sustitución de valores nulos de \"bfill\" para rellenar los registros con los valores anteriores que representen instancias no nulas, de este modo es fácil tener mejor control ya que sólo se reemplazaran por valores más cercanos. "
      ],
      "metadata": {
        "id": "H9ticsCN2g7y"
      }
    },
    {
      "cell_type": "code",
      "source": [
        "#Corroboramos valores nulos del dataframe\n",
        "valores_nulos=data1.isnull().sum()\n",
        "valores_nulos"
      ],
      "metadata": {
        "colab": {
          "base_uri": "https://localhost:8080/"
        },
        "id": "vqEK-oyF22c9",
        "outputId": "ac9d4c00-c170-4f9b-ae74-f7f12ee0788f"
      },
      "execution_count": 10,
      "outputs": [
        {
          "output_type": "execute_result",
          "data": {
            "text/plain": [
              "ï»¿id                                           0\n",
              "listing_url                                     0\n",
              "scrape_id                                       0\n",
              "last_scraped                                    0\n",
              "source                                          0\n",
              "                                               ..\n",
              "calculated_host_listings_count                  0\n",
              "calculated_host_listings_count_entire_homes     0\n",
              "calculated_host_listings_count_private_rooms    0\n",
              "calculated_host_listings_count_shared_rooms     0\n",
              "reviews_per_month                               0\n",
              "Length: 75, dtype: int64"
            ]
          },
          "metadata": {},
          "execution_count": 10
        }
      ]
    },
    {
      "cell_type": "code",
      "source": [
        "#Reemplazamos valores nulos del dataframe con \"mean\"\n",
        "#Realizamos una copia del dataframe\n",
        "data2=EUA.copy()\n",
        "data2=data2.fillna(round(EUA.mean(),1))\n",
        "data2"
      ],
      "metadata": {
        "id": "pfgvC0OO37n-"
      },
      "execution_count": null,
      "outputs": []
    },
    {
      "cell_type": "code",
      "source": [
        "#Corroboramos valores nulos del dataframe\n",
        "valores_nulos=data2.isnull().sum()\n",
        "valores_nulos"
      ],
      "metadata": {
        "id": "9xUNd4PD4Npi"
      },
      "execution_count": null,
      "outputs": []
    },
    {
      "cell_type": "code",
      "source": [
        "#Realizamos diagrama de caja o bigote de cada columna del dataframe\n",
        "fig = plt.figure(figsize =(15, 90))\n",
        "data2.plot(kind='box', vert=False)\n",
        "plt.title(\"Valores Atípicos del Dataframe\")\n",
        "plt.show() #dibujamos el diagrama"
      ],
      "metadata": {
        "id": "phpko0MX4TKo"
      },
      "execution_count": null,
      "outputs": []
    },
    {
      "cell_type": "markdown",
      "source": [
        "# **PROCEDIMIENTO \"DESVIACIÓN ESTÁNDAR\" PARA ELIMINAR OUTLIERS EN DATAFRAME**"
      ],
      "metadata": {
        "id": "HDvN5JRU4a12"
      }
    },
    {
      "cell_type": "code",
      "source": [
        "#Método aplicando desviación estandar. Encuentro los valores extremos\n",
        "y=data2\n",
        "Limite_Superior= y.mean() + 3*y.std()\n",
        "Limite_Inferior= y.mean() - 3*y.std()\n",
        "print(\"Limite superior permitido\", Limite_Superior)\n",
        "print(\"Limite inferior permitido\", Limite_Inferior)"
      ],
      "metadata": {
        "id": "ApzRQXiL4dMD"
      },
      "execution_count": null,
      "outputs": []
    },
    {
      "cell_type": "code",
      "source": [
        "#Encontramos Ouliers del Dataframe\n",
        "outliers= data2[(y>Limite_Superior)|(y<Limite_Inferior)]\n",
        "outliers"
      ],
      "metadata": {
        "id": "qgwugXsP4xFT"
      },
      "execution_count": null,
      "outputs": []
    },
    {
      "cell_type": "code",
      "source": [
        "#Obtenemos datos y los outliers se convierten en nulos en el DataFrame\n",
        "data3= data2[(y<=Limite_Superior)&(y>=Limite_Inferior)]\n",
        "data3"
      ],
      "metadata": {
        "id": "i3qKcqxS4zTM"
      },
      "execution_count": null,
      "outputs": []
    },
    {
      "cell_type": "code",
      "source": [
        "#Eliminamos columnas innecesarias\n",
        "data4= data3.drop(['listing_url','last_scraped','source','name','description','neighborhood_overview','picture_url','host_url','host_name','host_since','host_location','host_about','host_response_time','host_is_superhost','host_thumbnail_url','host_picture_url','host_neighbourhood','host_verifications','host_has_profile_pic','host_identity_verified','neighbourhood','neighbourhood_cleansed','neighbourhood_cleansed','property_type','room_type','amenities','has_availability','calendar_last_scraped','first_review','last_review','license','instant_bookable','bathrooms'], axis=1)\n",
        "data4"
      ],
      "metadata": {
        "id": "dFkec_Rj42nR"
      },
      "execution_count": null,
      "outputs": []
    },
    {
      "cell_type": "code",
      "source": [
        "#Corroboramos valores nulos del dataframe4\n",
        "valores_nulos=data4.isnull().sum()\n",
        "valores_nulos"
      ],
      "metadata": {
        "id": "IDqnhSSv_cAx"
      },
      "execution_count": null,
      "outputs": []
    },
    {
      "cell_type": "code",
      "source": [
        "#Reemplazamos valores atípicos (nulos) del dataframe con \"bfill\"\n",
        "#Realizamos una copia del dataframe\n",
        "data_clean=data4.copy()\n",
        "data_clean=data_clean.fillna(method = \"bfill\")\n",
        "data_clean"
      ],
      "metadata": {
        "id": "mz270MDOABPz"
      },
      "execution_count": null,
      "outputs": []
    },
    {
      "cell_type": "markdown",
      "source": [
        "Aquí se utilizó el método de \"bfill\" ya que son valores únicos, por lo tanto utilizar el método de sustitución por promedio solo modificaría los valores originales y distorsionaría la validez de la información."
      ],
      "metadata": {
        "id": "0MEyRfY2AaKU"
      }
    },
    {
      "cell_type": "code",
      "source": [
        "#Corroboramos valores nulos del dataframe LIMPIO\n",
        "valores_nulos=data_clean.isnull().sum()\n",
        "valores_nulos"
      ],
      "metadata": {
        "id": "2OH6YL-0A9xd"
      },
      "execution_count": null,
      "outputs": []
    },
    {
      "cell_type": "code",
      "source": [
        "\n",
        "listing_url=data2['listing_url']\n",
        "last_scraped=data2['last_scraped']\n",
        "source=data2['source']\n",
        "name=data2['name']\n",
        "description=data2['description']\n",
        "neighborhood_overview=data2['neighborhood_overview']\n",
        "picture_url=data2['picture_url']\n",
        "host_url=data2['host_url']\n",
        "host_name=data2['host_name']\n",
        "host_since=data2['host_since']\n",
        "host_location=data2['host_location']\n",
        "host_about=data2['host_about']\n",
        "host_response_time=data2['host_response_time']\n",
        "host_is_superhost=data2['host_is_superhost']\n",
        "host_thumbnail_url=data2['host_thumbnail_url']\n",
        "host_picture_url=data2['host_picture_url']\n",
        "host_neighbourhood=data2['host_neighbourhood']\n",
        "host_verifications=data2['host_verifications']\n",
        "host_has_profile_pic=data2['host_has_profile_pic']\n",
        "host_identity_verified=data2['host_identity_verified']\n",
        "neighbourhood=data2['neighbourhood']\n",
        "neighbourhood_cleansed=data2['neighbourhood_cleansed']\n",
        "property_type=data2['property_type']\n",
        "room_type=data2['room_type']\n",
        "has_availability=data2['has_availability']\n",
        "calendar_last_scraped=data2['calendar_last_scraped']\n",
        "first_review=data2['first_review']\n",
        "last_review=data2['last_review']\n",
        "license=data2['license']\n",
        "instant_bookable=data2['instant_bookable']\n",
        "\n",
        "\n",
        "\n",
        "\n",
        "Datos_limpios1 = pd.concat([listing_url,last_scraped,source,name,description,neighborhood_overview,picture_url,host_url,host_name,host_since,host_location,host_about,host_response_time,host_is_superhost,host_thumbnail_url,host_picture_url,host_neighbourhood,host_verifications,host_has_profile_pic,host_identity_verified,neighbourhood,neighbourhood_cleansed,property_type,room_type,has_availability,calendar_last_scraped,first_review,last_review,license,instant_bookable, data_clean], axis=1)\n",
        "Datos_limpios1"
      ],
      "metadata": {
        "id": "RDPkd9NMBFzZ"
      },
      "execution_count": null,
      "outputs": []
    },
    {
      "cell_type": "code",
      "source": [
        "#Corroboramos valores nulos del dataframe LIMPIO\n",
        "valores_nulos=Datos_limpios1.isnull().sum()\n",
        "valores_nulos"
      ],
      "metadata": {
        "id": "dco9pTp8JoCp"
      },
      "execution_count": null,
      "outputs": []
    },
    {
      "cell_type": "code",
      "source": [
        "#Convertir DataFrame a CSV\n",
        "Datos_limpios1.to_csv(\"Datos_limpios_desvest_EUA.csv\")\n",
        "#descargar archivo filtrado en csv\n",
        "from google.colab import files \n",
        "  \n",
        "  \n",
        "files.download(\"Datos_limpios_desvest_EUA.csv\")"
      ],
      "metadata": {
        "colab": {
          "base_uri": "https://localhost:8080/",
          "height": 17
        },
        "id": "7SQMk8OCJqFv",
        "outputId": "180f03e0-3204-4dee-9404-1402a50cfc2a"
      },
      "execution_count": 23,
      "outputs": [
        {
          "output_type": "display_data",
          "data": {
            "text/plain": [
              "<IPython.core.display.Javascript object>"
            ],
            "application/javascript": [
              "\n",
              "    async function download(id, filename, size) {\n",
              "      if (!google.colab.kernel.accessAllowed) {\n",
              "        return;\n",
              "      }\n",
              "      const div = document.createElement('div');\n",
              "      const label = document.createElement('label');\n",
              "      label.textContent = `Downloading \"${filename}\": `;\n",
              "      div.appendChild(label);\n",
              "      const progress = document.createElement('progress');\n",
              "      progress.max = size;\n",
              "      div.appendChild(progress);\n",
              "      document.body.appendChild(div);\n",
              "\n",
              "      const buffers = [];\n",
              "      let downloaded = 0;\n",
              "\n",
              "      const channel = await google.colab.kernel.comms.open(id);\n",
              "      // Send a message to notify the kernel that we're ready.\n",
              "      channel.send({})\n",
              "\n",
              "      for await (const message of channel.messages) {\n",
              "        // Send a message to notify the kernel that we're ready.\n",
              "        channel.send({})\n",
              "        if (message.buffers) {\n",
              "          for (const buffer of message.buffers) {\n",
              "            buffers.push(buffer);\n",
              "            downloaded += buffer.byteLength;\n",
              "            progress.value = downloaded;\n",
              "          }\n",
              "        }\n",
              "      }\n",
              "      const blob = new Blob(buffers, {type: 'application/binary'});\n",
              "      const a = document.createElement('a');\n",
              "      a.href = window.URL.createObjectURL(blob);\n",
              "      a.download = filename;\n",
              "      div.appendChild(a);\n",
              "      a.click();\n",
              "      div.remove();\n",
              "    }\n",
              "  "
            ]
          },
          "metadata": {}
        },
        {
          "output_type": "display_data",
          "data": {
            "text/plain": [
              "<IPython.core.display.Javascript object>"
            ],
            "application/javascript": [
              "download(\"download_fd6f8093-d2fd-4170-8622-014f414af1a1\", \"Datos_limpios_desvest_EUA.csv\", 15843498)"
            ]
          },
          "metadata": {}
        }
      ]
    }
  ]
}