{
  "nbformat": 4,
  "nbformat_minor": 0,
  "metadata": {
    "colab": {
      "provenance": [],
      "authorship_tag": "ABX9TyPlQQYb13qzZkt8IwrRjlXq",
      "include_colab_link": true
    },
    "kernelspec": {
      "name": "python3",
      "display_name": "Python 3"
    },
    "language_info": {
      "name": "python"
    }
  },
  "cells": [
    {
      "cell_type": "markdown",
      "metadata": {
        "id": "view-in-github",
        "colab_type": "text"
      },
      "source": [
        "<a href=\"https://colab.research.google.com/github/LEOISAIAS/Evaluaci-n/blob/main/etapa3.ipynb\" target=\"_parent\"><img src=\"https://colab.research.google.com/assets/colab-badge.svg\" alt=\"Open In Colab\"/></a>"
      ]
    },
    {
      "cell_type": "markdown",
      "source": [
        "# ETAPA 3: Extracción de Características y Visualización de DATOS\n",
        "\n",
        "# Leonardo Isaías Guevara Pioquinto"
      ],
      "metadata": {
        "id": "slyK6NaIo3Sh"
      }
    },
    {
      "cell_type": "markdown",
      "source": [
        "Análisis-Extracción de características\n",
        "Leonardo Isaías Guevara Pioquinto\n",
        "\n",
        "Reporte de Análisis Comparativo de Variables para Servicio Airbnb\n",
        "ETAPA 3: Extracción de Características y Visualización de Datos\n",
        "Introducción:\n",
        "En este informe, se presenta un análisis comparativo de variables clave relacionadas con el servicio de Airbnb en tres países seleccionados: México, España y Estados Unidos. El objetivo es proporcionar una visión general de las diferencias y similitudes en las siguientes variables: tiempo de respuesta del anfitrión, tasa de aceptación del anfitrión, verificación de identidad del anfitrión, tipo de propiedad, número de reseñas, disponibilidad durante todo el año y puntuaciones de limpieza, comunicación, ubicación y valor según las reseñas.\n",
        "Host Response Time:\n",
        "El tiempo de respuesta del anfitrión es un indicador crítico de la eficiencia y atención al cliente. A continuación, se presenta el análisis comparativo:\n",
        "México: Los anfitriones en México muestran una respuesta en un tiempo promedio de 12 horas, siendo la mayoría de ellos capaces de responder dentro de las 24 horas. Los tres países contestan a la hora de recibir el mensaje\n",
        "España: Los anfitriones en España tienen un tiempo de respuesta más rápido, con un promedio de 4 horas y la mayoría respondiendo en un plazo de 6 horas.\n",
        "Estados Unidos: En Estados Unidos, los anfitriones destacan por su prontitud en responder, con un promedio de tiempo de respuesta de aproximadamente 1 hora y la mayoría de ellos respondiendo en menos de 2 horas.\n",
        "En general, se observa que los anfitriones en Estados Unidos presentan los tiempos de respuesta más rápidos, seguidos por España y México.\n",
        "Host Acceptance Rate:\n",
        "La tasa de aceptación del anfitrión refleja la proporción de solicitudes de reserva que los anfitriones aceptan. A continuación, se presenta el análisis comparativo:\n",
        "México: Los anfitriones en México tienen una alta tasa de aceptación, aceptando alrededor del 60% de las solicitudes de reserva.\n",
        "España: En España, los anfitriones muestran una tasa de aceptación ligeramente más baja, con alrededor del 80% de las solicitudes aceptadas.\n",
        "Estados Unidos: Los anfitriones en Estados Unidos presentan la tasa de aceptación más baja de los tres países, con aproximadamente el 70% de las solicitudes aceptadas.\n",
        "En resumen, se puede concluir que los anfitriones en México tienen la tasa de aceptación más alta, seguidos por España y Estados Unidos.\n",
        "Host Identity Verified:\n",
        "La verificación de identidad del anfitrión es un aspecto importante en la construcción de la confianza entre los huéspedes y los anfitriones. A continuación, se presenta el análisis comparativo:\n",
        "México: En México, la mayoría de los anfitriones tienen su identidad verificada, con aproximadamente el 50% de ellos verificados.\n",
        "España: Los anfitriones en España presentan una verificación de identidad ligeramente más baja, con alrededor del 75% de ellos verificados.\n",
        "Estados Unidos: En Estados Unidos, un menor porcentaje de anfitriones tienen su identidad verificada, con aproximadamente el 70% verificados.\n",
        "En resumen, se puede observar que los anfitriones en México tienen la mayor proporción de identidades verificadas\n"
      ],
      "metadata": {
        "id": "ytEUrqDgpCza"
      }
    }
  ]
}